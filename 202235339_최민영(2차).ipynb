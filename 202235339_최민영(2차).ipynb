{
  "nbformat": 4,
  "nbformat_minor": 0,
  "metadata": {
    "colab": {
      "provenance": [],
      "authorship_tag": "ABX9TyOOe49Uikh1nOIzmvUo+wpx",
      "include_colab_link": true
    },
    "kernelspec": {
      "name": "python3",
      "display_name": "Python 3"
    },
    "language_info": {
      "name": "python"
    }
  },
  "cells": [
    {
      "cell_type": "markdown",
      "metadata": {
        "id": "view-in-github",
        "colab_type": "text"
      },
      "source": [
        "<a href=\"https://colab.research.google.com/github/Minch13r/MachineLearn/blob/main/202235339_%EC%B5%9C%EB%AF%BC%EC%98%81(2%EC%B0%A8).ipynb\" target=\"_parent\"><img src=\"https://colab.research.google.com/assets/colab-badge.svg\" alt=\"Open In Colab\"/></a>"
      ]
    },
    {
      "cell_type": "markdown",
      "source": [
        "# 1. 라이브러리 임포트 및 버전 확인\n",
        "---\n",
        "*   필요한 라이브러리를 임포트하고 버전을 확인\n",
        "*   Keras를 사용하여 딥러닝 모델을 구축\n",
        "*   NumPy로 데이터를 처리\n",
        "*   Matplotlib으로 결과를 시각화\n"
      ],
      "metadata": {
        "id": "MlBUGTLSzXtn"
      }
    },
    {
      "cell_type": "code",
      "execution_count": 1,
      "metadata": {
        "colab": {
          "base_uri": "https://localhost:8080/"
        },
        "id": "z-2RzeBKjPTL",
        "outputId": "905d90c7-864c-4b09-e9f7-01ab4351d595"
      },
      "outputs": [
        {
          "output_type": "stream",
          "name": "stdout",
          "text": [
            "TensorFlow 버전: 2.17.0\n",
            "Keras 버전: 3.4.1\n"
          ]
        }
      ],
      "source": [
        "import tensorflow as tf\n",
        "from tensorflow import keras\n",
        "import numpy as np\n",
        "import matplotlib.pyplot as plt\n",
        "\n",
        "print(f\"TensorFlow 버전: {tf.__version__}\")\n",
        "print(f\"Keras 버전: {keras.__version__}\")"
      ]
    },
    {
      "cell_type": "markdown",
      "source": [
        "# 2. MNIST 데이터 로드 및 전처리\n",
        "---\n",
        "\n",
        "\n",
        "*   MNIST 데이터를 로드하고 전처리\n",
        "*   이미지를 정규화하여 모델의 학습을 안정화하고, CNN 모델 입력에 맞게 차원을 추가\n",
        "*   검증 세트를 분리하여 모델의 일반화 성능을 평가\n",
        "---\n",
        "\n",
        "1.   이미지 정규화 (0-255 → 0-1 범위로 변환)\n",
        "\n",
        "\n",
        "*   학습 안정성: 큰 입력값은 학습 과정에서 기울기 폭발 문제를 일으킬 수 있습니다.\n",
        "\n",
        "*   수렴 속도: 정규화된 데이터는 더 빠른 학습 수렴을 가능하게 합니다.\n",
        "\n",
        "\n",
        "*   가중치 업데이트: 모든 특성이 비슷한 스케일을 가지면 가중치 업데이트가 더 균일하게 이루어집니다.\n",
        "\n",
        "*   메모리 효율성: float32 타입으로 변환하여 메모리 사용을 최적화합니다.\n",
        "\n",
        "\n",
        "\n",
        "\n",
        "\n",
        "2.   차원 추가 (채널 차원, CNN 입력용)\n",
        "\n",
        "\n",
        "*   CNN 입력 형식: CNN은 (배치크기, 높이, 너비, 채널) 형태의 4D 텐서를 입력으로 요구합니다.\n",
        "\n",
        "\n",
        "*   채널 차원: MNIST는 흑백 이미지라서 채널이 1개입니다. 컬러 이미지는 RGB로 3개 채널입니다.\n",
        "\n",
        "*   호환성: 대부분의 딥러닝 프레임워크가 이 형식을 표준으로 사용합니다.\n",
        "\n",
        "\n",
        "\n",
        "*   확장성: 나중에 컬러 이미지나 다중 채널 데이터로 확장하기 쉽습니다.\n",
        "\n",
        "3.    검증 세트 분리\n",
        "\n",
        "\n",
        "*   모델 평가: 학습 중에 모델의 일반화 성능을 평가할 수 있습니다.\n",
        "\n",
        "\n",
        "*   과적합 감지: 검증 세트 성능을 통해 과적합 여부를 조기에 발견할 수 있습니다.\n",
        "*   하이퍼파라미터 튜닝: 검증 세트 성능을 기반으로 모델의 하이퍼파라미터를 조정할 수 있습니다.\n",
        "\n",
        "\n",
        "\n",
        "*   조기 종료: Early Stopping 등의 기법을 적용할 때 검증 세트 성능을 기준으로 사용합니다.\n",
        "\n",
        "\n",
        "\n",
        "\n",
        "\n",
        "\n",
        "\n"
      ],
      "metadata": {
        "id": "zRc5k5kQzul1"
      }
    },
    {
      "cell_type": "code",
      "source": [
        "# MNIST 데이터셋 로드\n",
        "(train_images, train_labels), (test_images, test_labels) = keras.datasets.mnist.load_data()\n",
        "\n",
        "# 이미지 정규화 (0-255 값을 0-1 범위로 변환)\n",
        "train_images = train_images.astype('float32') / 255\n",
        "test_images = test_images.astype('float32') / 255\n",
        "\n",
        "# 차원 추가 (채널 차원, CNN 입력용)\n",
        "train_images = np.expand_dims(train_images, -1)\n",
        "test_images = np.expand_dims(test_images, -1)\n",
        "\n",
        "# 검증 세트 분리 (훈련 데이터의 마지막 10,000개를 검증 세트로 사용)\n",
        "val_images = train_images[-10000:]\n",
        "val_labels = train_labels[-10000:]\n",
        "train_images = train_images[:-10000]\n",
        "train_labels = train_labels[:-10000]\n",
        "\n",
        "# 데이터 형태 출력\n",
        "print(\"훈련 데이터 형태:\", train_images.shape)\n",
        "print(\"검증 데이터 형태:\", val_images.shape)\n",
        "print(\"테스트 데이터 형태:\", test_images.shape)"
      ],
      "metadata": {
        "colab": {
          "base_uri": "https://localhost:8080/"
        },
        "id": "21yJU0VBkN75",
        "outputId": "e86ae1b8-f3ee-455a-e719-f652229b8eb7"
      },
      "execution_count": 2,
      "outputs": [
        {
          "output_type": "stream",
          "name": "stdout",
          "text": [
            "Downloading data from https://storage.googleapis.com/tensorflow/tf-keras-datasets/mnist.npz\n",
            "\u001b[1m11490434/11490434\u001b[0m \u001b[32m━━━━━━━━━━━━━━━━━━━━\u001b[0m\u001b[37m\u001b[0m \u001b[1m0s\u001b[0m 0us/step\n",
            "훈련 데이터 형태: (50000, 28, 28, 1)\n",
            "검증 데이터 형태: (10000, 28, 28, 1)\n",
            "테스트 데이터 형태: (10000, 28, 28, 1)\n"
          ]
        }
      ]
    },
    {
      "cell_type": "markdown",
      "source": [
        "# 3. 모델 구축\n",
        "---\n",
        "\n",
        "\n",
        "*   CNN(합성곱) 모델을 생성\n",
        "*   컨볼루션 층, 배치 정규화, 최대 풀링, 드롭아웃 등을 사용하여 모델의 성능을 향상시키고 과적합을 방지\n",
        "*   Adam 옵티마이저와 적절한 손실 함수를 사용하여 모델을 컴파일\n",
        "\n",
        "---\n",
        "\n",
        "\n",
        "1.   필터 개수 증가 이유\n",
        "\n",
        "\n",
        "*   계층적 특징 추출: 상위 층으로 갈수록 더 복잡한 특징을 추출하기 위해 필터 수를 증가시킵니다.\n",
        "*   연산량 균형: 초기 층에서는 적은 수의 필터로 기본적인 특징을 추출하고, 상위 층에서 더 많은 필터로 세부적인 특징을 포착합니다.\n",
        "*   메모리 효율성: 첫 층에서 너무 많은 필터를 사용하면 메모리 사용량이 급증할 수 있습니다.\n",
        "\n",
        "\n",
        "2.   ReLu 활성화 함수 사용 이유\n",
        "*   비선형성 도입: 복잡한 패턴을 학습할 수 있게 합니다.\n",
        "*   기울기 소실 문제 완화: 양의 입력에 대해 기울기가 항상 1이므로, 깊은 신경망에서도 효과적으로 학습이 가능합니다.\n",
        "\n",
        "3.  sparse_categorical_crossentropy 사용 이유\n",
        "*   MNIST는 0-9까지의 10개 클래스를 분류하는 정수 분류 문제이기 때문에 사용\n",
        "\n",
        "4. Dropout(0.25, 0.5) 사용 이유\n",
        "*   과적합 방지: 학습 중 무작위로 뉴런을 비활성화하여 모델의 일반화 능력을 향상시킵니다.\n",
        "*   앙상블 효과: 여러 서브 네트워크의 평균을 내는 효과가 있습니다.\n",
        "\n"
      ],
      "metadata": {
        "id": "THTEV1KO0ITP"
      }
    },
    {
      "cell_type": "code",
      "source": [
        "def create_model():\n",
        "    model = keras.Sequential([\n",
        "        # 첫 번째 컨볼루션 층: 32개의 3x3 필터, ReLU 활성화\n",
        "        keras.layers.Conv2D(32, (3, 3), activation='relu', input_shape=(28, 28, 1)),\n",
        "        keras.layers.BatchNormalization(),  # 배치 정규화로 학습 안정화\n",
        "        keras.layers.MaxPooling2D((2, 2)),  # 최대 풀링으로 특성 맵 크기 축소\n",
        "        keras.layers.Dropout(0.25),  # 과적합 방지를 위한 드롭아웃\n",
        "\n",
        "        # 두 번째 컨볼루션 층: 64개의 3x3 필터\n",
        "        keras.layers.Conv2D(64, (3, 3), activation='relu'),\n",
        "        keras.layers.BatchNormalization(),\n",
        "        keras.layers.MaxPooling2D((2, 2)),\n",
        "        keras.layers.Dropout(0.25),\n",
        "\n",
        "        # 세 번째 컨볼루션 층: 64개의 3x3 필터\n",
        "        keras.layers.Conv2D(64, (3, 3), activation='relu'),\n",
        "        keras.layers.BatchNormalization(),\n",
        "        keras.layers.Flatten(),  # 2D 특성 맵을 1D 벡터로 평탄화\n",
        "        keras.layers.Dropout(0.5),\n",
        "\n",
        "        # 완전 연결 층\n",
        "        keras.layers.Dense(128, activation='relu'),\n",
        "        keras.layers.BatchNormalization(),\n",
        "        keras.layers.Dropout(0.5),\n",
        "        keras.layers.Dense(10, activation='softmax')  # 출력층: 10개 클래스에 대한 확률 분포\n",
        "    ])\n",
        "\n",
        "    # 모델 컴파일: Adam 옵티마이저, 학습률 0.001\n",
        "    model.compile(optimizer=keras.optimizers.Adam(learning_rate=0.001),\n",
        "                  loss='sparse_categorical_crossentropy',\n",
        "                  metrics=['accuracy'])\n",
        "    return model\n",
        "\n",
        "model = create_model()\n",
        "model.summary()  # 모델 구조 요약 출력\n"
      ],
      "metadata": {
        "colab": {
          "base_uri": "https://localhost:8080/",
          "height": 805
        },
        "id": "IwQangDpkQEC",
        "outputId": "c79741e5-a893-4d38-c18f-9600775ee05a"
      },
      "execution_count": 3,
      "outputs": [
        {
          "output_type": "stream",
          "name": "stderr",
          "text": [
            "/usr/local/lib/python3.10/dist-packages/keras/src/layers/convolutional/base_conv.py:107: UserWarning: Do not pass an `input_shape`/`input_dim` argument to a layer. When using Sequential models, prefer using an `Input(shape)` object as the first layer in the model instead.\n",
            "  super().__init__(activity_regularizer=activity_regularizer, **kwargs)\n"
          ]
        },
        {
          "output_type": "display_data",
          "data": {
            "text/plain": [
              "\u001b[1mModel: \"sequential\"\u001b[0m\n"
            ],
            "text/html": [
              "<pre style=\"white-space:pre;overflow-x:auto;line-height:normal;font-family:Menlo,'DejaVu Sans Mono',consolas,'Courier New',monospace\"><span style=\"font-weight: bold\">Model: \"sequential\"</span>\n",
              "</pre>\n"
            ]
          },
          "metadata": {}
        },
        {
          "output_type": "display_data",
          "data": {
            "text/plain": [
              "┏━━━━━━━━━━━━━━━━━━━━━━━━━━━━━━━━━━━━━━┳━━━━━━━━━━━━━━━━━━━━━━━━━━━━━┳━━━━━━━━━━━━━━━━━┓\n",
              "┃\u001b[1m \u001b[0m\u001b[1mLayer (type)                        \u001b[0m\u001b[1m \u001b[0m┃\u001b[1m \u001b[0m\u001b[1mOutput Shape               \u001b[0m\u001b[1m \u001b[0m┃\u001b[1m \u001b[0m\u001b[1m        Param #\u001b[0m\u001b[1m \u001b[0m┃\n",
              "┡━━━━━━━━━━━━━━━━━━━━━━━━━━━━━━━━━━━━━━╇━━━━━━━━━━━━━━━━━━━━━━━━━━━━━╇━━━━━━━━━━━━━━━━━┩\n",
              "│ conv2d (\u001b[38;5;33mConv2D\u001b[0m)                      │ (\u001b[38;5;45mNone\u001b[0m, \u001b[38;5;34m26\u001b[0m, \u001b[38;5;34m26\u001b[0m, \u001b[38;5;34m32\u001b[0m)          │             \u001b[38;5;34m320\u001b[0m │\n",
              "├──────────────────────────────────────┼─────────────────────────────┼─────────────────┤\n",
              "│ batch_normalization                  │ (\u001b[38;5;45mNone\u001b[0m, \u001b[38;5;34m26\u001b[0m, \u001b[38;5;34m26\u001b[0m, \u001b[38;5;34m32\u001b[0m)          │             \u001b[38;5;34m128\u001b[0m │\n",
              "│ (\u001b[38;5;33mBatchNormalization\u001b[0m)                 │                             │                 │\n",
              "├──────────────────────────────────────┼─────────────────────────────┼─────────────────┤\n",
              "│ max_pooling2d (\u001b[38;5;33mMaxPooling2D\u001b[0m)         │ (\u001b[38;5;45mNone\u001b[0m, \u001b[38;5;34m13\u001b[0m, \u001b[38;5;34m13\u001b[0m, \u001b[38;5;34m32\u001b[0m)          │               \u001b[38;5;34m0\u001b[0m │\n",
              "├──────────────────────────────────────┼─────────────────────────────┼─────────────────┤\n",
              "│ dropout (\u001b[38;5;33mDropout\u001b[0m)                    │ (\u001b[38;5;45mNone\u001b[0m, \u001b[38;5;34m13\u001b[0m, \u001b[38;5;34m13\u001b[0m, \u001b[38;5;34m32\u001b[0m)          │               \u001b[38;5;34m0\u001b[0m │\n",
              "├──────────────────────────────────────┼─────────────────────────────┼─────────────────┤\n",
              "│ conv2d_1 (\u001b[38;5;33mConv2D\u001b[0m)                    │ (\u001b[38;5;45mNone\u001b[0m, \u001b[38;5;34m11\u001b[0m, \u001b[38;5;34m11\u001b[0m, \u001b[38;5;34m64\u001b[0m)          │          \u001b[38;5;34m18,496\u001b[0m │\n",
              "├──────────────────────────────────────┼─────────────────────────────┼─────────────────┤\n",
              "│ batch_normalization_1                │ (\u001b[38;5;45mNone\u001b[0m, \u001b[38;5;34m11\u001b[0m, \u001b[38;5;34m11\u001b[0m, \u001b[38;5;34m64\u001b[0m)          │             \u001b[38;5;34m256\u001b[0m │\n",
              "│ (\u001b[38;5;33mBatchNormalization\u001b[0m)                 │                             │                 │\n",
              "├──────────────────────────────────────┼─────────────────────────────┼─────────────────┤\n",
              "│ max_pooling2d_1 (\u001b[38;5;33mMaxPooling2D\u001b[0m)       │ (\u001b[38;5;45mNone\u001b[0m, \u001b[38;5;34m5\u001b[0m, \u001b[38;5;34m5\u001b[0m, \u001b[38;5;34m64\u001b[0m)            │               \u001b[38;5;34m0\u001b[0m │\n",
              "├──────────────────────────────────────┼─────────────────────────────┼─────────────────┤\n",
              "│ dropout_1 (\u001b[38;5;33mDropout\u001b[0m)                  │ (\u001b[38;5;45mNone\u001b[0m, \u001b[38;5;34m5\u001b[0m, \u001b[38;5;34m5\u001b[0m, \u001b[38;5;34m64\u001b[0m)            │               \u001b[38;5;34m0\u001b[0m │\n",
              "├──────────────────────────────────────┼─────────────────────────────┼─────────────────┤\n",
              "│ conv2d_2 (\u001b[38;5;33mConv2D\u001b[0m)                    │ (\u001b[38;5;45mNone\u001b[0m, \u001b[38;5;34m3\u001b[0m, \u001b[38;5;34m3\u001b[0m, \u001b[38;5;34m64\u001b[0m)            │          \u001b[38;5;34m36,928\u001b[0m │\n",
              "├──────────────────────────────────────┼─────────────────────────────┼─────────────────┤\n",
              "│ batch_normalization_2                │ (\u001b[38;5;45mNone\u001b[0m, \u001b[38;5;34m3\u001b[0m, \u001b[38;5;34m3\u001b[0m, \u001b[38;5;34m64\u001b[0m)            │             \u001b[38;5;34m256\u001b[0m │\n",
              "│ (\u001b[38;5;33mBatchNormalization\u001b[0m)                 │                             │                 │\n",
              "├──────────────────────────────────────┼─────────────────────────────┼─────────────────┤\n",
              "│ flatten (\u001b[38;5;33mFlatten\u001b[0m)                    │ (\u001b[38;5;45mNone\u001b[0m, \u001b[38;5;34m576\u001b[0m)                 │               \u001b[38;5;34m0\u001b[0m │\n",
              "├──────────────────────────────────────┼─────────────────────────────┼─────────────────┤\n",
              "│ dropout_2 (\u001b[38;5;33mDropout\u001b[0m)                  │ (\u001b[38;5;45mNone\u001b[0m, \u001b[38;5;34m576\u001b[0m)                 │               \u001b[38;5;34m0\u001b[0m │\n",
              "├──────────────────────────────────────┼─────────────────────────────┼─────────────────┤\n",
              "│ dense (\u001b[38;5;33mDense\u001b[0m)                        │ (\u001b[38;5;45mNone\u001b[0m, \u001b[38;5;34m128\u001b[0m)                 │          \u001b[38;5;34m73,856\u001b[0m │\n",
              "├──────────────────────────────────────┼─────────────────────────────┼─────────────────┤\n",
              "│ batch_normalization_3                │ (\u001b[38;5;45mNone\u001b[0m, \u001b[38;5;34m128\u001b[0m)                 │             \u001b[38;5;34m512\u001b[0m │\n",
              "│ (\u001b[38;5;33mBatchNormalization\u001b[0m)                 │                             │                 │\n",
              "├──────────────────────────────────────┼─────────────────────────────┼─────────────────┤\n",
              "│ dropout_3 (\u001b[38;5;33mDropout\u001b[0m)                  │ (\u001b[38;5;45mNone\u001b[0m, \u001b[38;5;34m128\u001b[0m)                 │               \u001b[38;5;34m0\u001b[0m │\n",
              "├──────────────────────────────────────┼─────────────────────────────┼─────────────────┤\n",
              "│ dense_1 (\u001b[38;5;33mDense\u001b[0m)                      │ (\u001b[38;5;45mNone\u001b[0m, \u001b[38;5;34m10\u001b[0m)                  │           \u001b[38;5;34m1,290\u001b[0m │\n",
              "└──────────────────────────────────────┴─────────────────────────────┴─────────────────┘\n"
            ],
            "text/html": [
              "<pre style=\"white-space:pre;overflow-x:auto;line-height:normal;font-family:Menlo,'DejaVu Sans Mono',consolas,'Courier New',monospace\">┏━━━━━━━━━━━━━━━━━━━━━━━━━━━━━━━━━━━━━━┳━━━━━━━━━━━━━━━━━━━━━━━━━━━━━┳━━━━━━━━━━━━━━━━━┓\n",
              "┃<span style=\"font-weight: bold\"> Layer (type)                         </span>┃<span style=\"font-weight: bold\"> Output Shape                </span>┃<span style=\"font-weight: bold\">         Param # </span>┃\n",
              "┡━━━━━━━━━━━━━━━━━━━━━━━━━━━━━━━━━━━━━━╇━━━━━━━━━━━━━━━━━━━━━━━━━━━━━╇━━━━━━━━━━━━━━━━━┩\n",
              "│ conv2d (<span style=\"color: #0087ff; text-decoration-color: #0087ff\">Conv2D</span>)                      │ (<span style=\"color: #00d7ff; text-decoration-color: #00d7ff\">None</span>, <span style=\"color: #00af00; text-decoration-color: #00af00\">26</span>, <span style=\"color: #00af00; text-decoration-color: #00af00\">26</span>, <span style=\"color: #00af00; text-decoration-color: #00af00\">32</span>)          │             <span style=\"color: #00af00; text-decoration-color: #00af00\">320</span> │\n",
              "├──────────────────────────────────────┼─────────────────────────────┼─────────────────┤\n",
              "│ batch_normalization                  │ (<span style=\"color: #00d7ff; text-decoration-color: #00d7ff\">None</span>, <span style=\"color: #00af00; text-decoration-color: #00af00\">26</span>, <span style=\"color: #00af00; text-decoration-color: #00af00\">26</span>, <span style=\"color: #00af00; text-decoration-color: #00af00\">32</span>)          │             <span style=\"color: #00af00; text-decoration-color: #00af00\">128</span> │\n",
              "│ (<span style=\"color: #0087ff; text-decoration-color: #0087ff\">BatchNormalization</span>)                 │                             │                 │\n",
              "├──────────────────────────────────────┼─────────────────────────────┼─────────────────┤\n",
              "│ max_pooling2d (<span style=\"color: #0087ff; text-decoration-color: #0087ff\">MaxPooling2D</span>)         │ (<span style=\"color: #00d7ff; text-decoration-color: #00d7ff\">None</span>, <span style=\"color: #00af00; text-decoration-color: #00af00\">13</span>, <span style=\"color: #00af00; text-decoration-color: #00af00\">13</span>, <span style=\"color: #00af00; text-decoration-color: #00af00\">32</span>)          │               <span style=\"color: #00af00; text-decoration-color: #00af00\">0</span> │\n",
              "├──────────────────────────────────────┼─────────────────────────────┼─────────────────┤\n",
              "│ dropout (<span style=\"color: #0087ff; text-decoration-color: #0087ff\">Dropout</span>)                    │ (<span style=\"color: #00d7ff; text-decoration-color: #00d7ff\">None</span>, <span style=\"color: #00af00; text-decoration-color: #00af00\">13</span>, <span style=\"color: #00af00; text-decoration-color: #00af00\">13</span>, <span style=\"color: #00af00; text-decoration-color: #00af00\">32</span>)          │               <span style=\"color: #00af00; text-decoration-color: #00af00\">0</span> │\n",
              "├──────────────────────────────────────┼─────────────────────────────┼─────────────────┤\n",
              "│ conv2d_1 (<span style=\"color: #0087ff; text-decoration-color: #0087ff\">Conv2D</span>)                    │ (<span style=\"color: #00d7ff; text-decoration-color: #00d7ff\">None</span>, <span style=\"color: #00af00; text-decoration-color: #00af00\">11</span>, <span style=\"color: #00af00; text-decoration-color: #00af00\">11</span>, <span style=\"color: #00af00; text-decoration-color: #00af00\">64</span>)          │          <span style=\"color: #00af00; text-decoration-color: #00af00\">18,496</span> │\n",
              "├──────────────────────────────────────┼─────────────────────────────┼─────────────────┤\n",
              "│ batch_normalization_1                │ (<span style=\"color: #00d7ff; text-decoration-color: #00d7ff\">None</span>, <span style=\"color: #00af00; text-decoration-color: #00af00\">11</span>, <span style=\"color: #00af00; text-decoration-color: #00af00\">11</span>, <span style=\"color: #00af00; text-decoration-color: #00af00\">64</span>)          │             <span style=\"color: #00af00; text-decoration-color: #00af00\">256</span> │\n",
              "│ (<span style=\"color: #0087ff; text-decoration-color: #0087ff\">BatchNormalization</span>)                 │                             │                 │\n",
              "├──────────────────────────────────────┼─────────────────────────────┼─────────────────┤\n",
              "│ max_pooling2d_1 (<span style=\"color: #0087ff; text-decoration-color: #0087ff\">MaxPooling2D</span>)       │ (<span style=\"color: #00d7ff; text-decoration-color: #00d7ff\">None</span>, <span style=\"color: #00af00; text-decoration-color: #00af00\">5</span>, <span style=\"color: #00af00; text-decoration-color: #00af00\">5</span>, <span style=\"color: #00af00; text-decoration-color: #00af00\">64</span>)            │               <span style=\"color: #00af00; text-decoration-color: #00af00\">0</span> │\n",
              "├──────────────────────────────────────┼─────────────────────────────┼─────────────────┤\n",
              "│ dropout_1 (<span style=\"color: #0087ff; text-decoration-color: #0087ff\">Dropout</span>)                  │ (<span style=\"color: #00d7ff; text-decoration-color: #00d7ff\">None</span>, <span style=\"color: #00af00; text-decoration-color: #00af00\">5</span>, <span style=\"color: #00af00; text-decoration-color: #00af00\">5</span>, <span style=\"color: #00af00; text-decoration-color: #00af00\">64</span>)            │               <span style=\"color: #00af00; text-decoration-color: #00af00\">0</span> │\n",
              "├──────────────────────────────────────┼─────────────────────────────┼─────────────────┤\n",
              "│ conv2d_2 (<span style=\"color: #0087ff; text-decoration-color: #0087ff\">Conv2D</span>)                    │ (<span style=\"color: #00d7ff; text-decoration-color: #00d7ff\">None</span>, <span style=\"color: #00af00; text-decoration-color: #00af00\">3</span>, <span style=\"color: #00af00; text-decoration-color: #00af00\">3</span>, <span style=\"color: #00af00; text-decoration-color: #00af00\">64</span>)            │          <span style=\"color: #00af00; text-decoration-color: #00af00\">36,928</span> │\n",
              "├──────────────────────────────────────┼─────────────────────────────┼─────────────────┤\n",
              "│ batch_normalization_2                │ (<span style=\"color: #00d7ff; text-decoration-color: #00d7ff\">None</span>, <span style=\"color: #00af00; text-decoration-color: #00af00\">3</span>, <span style=\"color: #00af00; text-decoration-color: #00af00\">3</span>, <span style=\"color: #00af00; text-decoration-color: #00af00\">64</span>)            │             <span style=\"color: #00af00; text-decoration-color: #00af00\">256</span> │\n",
              "│ (<span style=\"color: #0087ff; text-decoration-color: #0087ff\">BatchNormalization</span>)                 │                             │                 │\n",
              "├──────────────────────────────────────┼─────────────────────────────┼─────────────────┤\n",
              "│ flatten (<span style=\"color: #0087ff; text-decoration-color: #0087ff\">Flatten</span>)                    │ (<span style=\"color: #00d7ff; text-decoration-color: #00d7ff\">None</span>, <span style=\"color: #00af00; text-decoration-color: #00af00\">576</span>)                 │               <span style=\"color: #00af00; text-decoration-color: #00af00\">0</span> │\n",
              "├──────────────────────────────────────┼─────────────────────────────┼─────────────────┤\n",
              "│ dropout_2 (<span style=\"color: #0087ff; text-decoration-color: #0087ff\">Dropout</span>)                  │ (<span style=\"color: #00d7ff; text-decoration-color: #00d7ff\">None</span>, <span style=\"color: #00af00; text-decoration-color: #00af00\">576</span>)                 │               <span style=\"color: #00af00; text-decoration-color: #00af00\">0</span> │\n",
              "├──────────────────────────────────────┼─────────────────────────────┼─────────────────┤\n",
              "│ dense (<span style=\"color: #0087ff; text-decoration-color: #0087ff\">Dense</span>)                        │ (<span style=\"color: #00d7ff; text-decoration-color: #00d7ff\">None</span>, <span style=\"color: #00af00; text-decoration-color: #00af00\">128</span>)                 │          <span style=\"color: #00af00; text-decoration-color: #00af00\">73,856</span> │\n",
              "├──────────────────────────────────────┼─────────────────────────────┼─────────────────┤\n",
              "│ batch_normalization_3                │ (<span style=\"color: #00d7ff; text-decoration-color: #00d7ff\">None</span>, <span style=\"color: #00af00; text-decoration-color: #00af00\">128</span>)                 │             <span style=\"color: #00af00; text-decoration-color: #00af00\">512</span> │\n",
              "│ (<span style=\"color: #0087ff; text-decoration-color: #0087ff\">BatchNormalization</span>)                 │                             │                 │\n",
              "├──────────────────────────────────────┼─────────────────────────────┼─────────────────┤\n",
              "│ dropout_3 (<span style=\"color: #0087ff; text-decoration-color: #0087ff\">Dropout</span>)                  │ (<span style=\"color: #00d7ff; text-decoration-color: #00d7ff\">None</span>, <span style=\"color: #00af00; text-decoration-color: #00af00\">128</span>)                 │               <span style=\"color: #00af00; text-decoration-color: #00af00\">0</span> │\n",
              "├──────────────────────────────────────┼─────────────────────────────┼─────────────────┤\n",
              "│ dense_1 (<span style=\"color: #0087ff; text-decoration-color: #0087ff\">Dense</span>)                      │ (<span style=\"color: #00d7ff; text-decoration-color: #00d7ff\">None</span>, <span style=\"color: #00af00; text-decoration-color: #00af00\">10</span>)                  │           <span style=\"color: #00af00; text-decoration-color: #00af00\">1,290</span> │\n",
              "└──────────────────────────────────────┴─────────────────────────────┴─────────────────┘\n",
              "</pre>\n"
            ]
          },
          "metadata": {}
        },
        {
          "output_type": "display_data",
          "data": {
            "text/plain": [
              "\u001b[1m Total params: \u001b[0m\u001b[38;5;34m132,042\u001b[0m (515.79 KB)\n"
            ],
            "text/html": [
              "<pre style=\"white-space:pre;overflow-x:auto;line-height:normal;font-family:Menlo,'DejaVu Sans Mono',consolas,'Courier New',monospace\"><span style=\"font-weight: bold\"> Total params: </span><span style=\"color: #00af00; text-decoration-color: #00af00\">132,042</span> (515.79 KB)\n",
              "</pre>\n"
            ]
          },
          "metadata": {}
        },
        {
          "output_type": "display_data",
          "data": {
            "text/plain": [
              "\u001b[1m Trainable params: \u001b[0m\u001b[38;5;34m131,466\u001b[0m (513.54 KB)\n"
            ],
            "text/html": [
              "<pre style=\"white-space:pre;overflow-x:auto;line-height:normal;font-family:Menlo,'DejaVu Sans Mono',consolas,'Courier New',monospace\"><span style=\"font-weight: bold\"> Trainable params: </span><span style=\"color: #00af00; text-decoration-color: #00af00\">131,466</span> (513.54 KB)\n",
              "</pre>\n"
            ]
          },
          "metadata": {}
        },
        {
          "output_type": "display_data",
          "data": {
            "text/plain": [
              "\u001b[1m Non-trainable params: \u001b[0m\u001b[38;5;34m576\u001b[0m (2.25 KB)\n"
            ],
            "text/html": [
              "<pre style=\"white-space:pre;overflow-x:auto;line-height:normal;font-family:Menlo,'DejaVu Sans Mono',consolas,'Courier New',monospace\"><span style=\"font-weight: bold\"> Non-trainable params: </span><span style=\"color: #00af00; text-decoration-color: #00af00\">576</span> (2.25 KB)\n",
              "</pre>\n"
            ]
          },
          "metadata": {}
        }
      ]
    },
    {
      "cell_type": "markdown",
      "source": [
        "# 4. 콜백 함수 정의\n",
        "---\n",
        "\n",
        "\n",
        "*   학습 과정을 제어하고 최적화하기 위한 콜백 함수들을 정의\n",
        "*   Early Stopping은 과적합을 방지\n",
        "*   학습률 감소는 학습을 미세 조정\n",
        "*   모델 체크포인트는 최고 성능의 모델을 저장\n",
        "---\n",
        "\n",
        "\n",
        "1.   Early Stopping (조기 종료) 사용 이유\n",
        "\n",
        "\n",
        "*   과적합 방지: 모델이 훈련 데이터에 과도하게 맞춰지는 것을 막습니다.\n",
        "*   계산 자원 절약: 불필요한 추가 학습을 방지하여 시간과 컴퓨팅 리소스를 절약합니다.\n",
        "*   최적 성능 유지: 검증 성능이 가장 좋았을 때의 모델을 저장합니다.\n",
        "\n",
        "\n",
        "2.   ReduceLROnPlateau (학습률 감소) 사용 이유\n",
        "*   학습 안정화: 학습이 정체될 때 학습률을 낮춰 더 세밀한 최적화를 가능하게 합니다.\n",
        "*   지역 최적점 탈출: 큰 학습률로 인한 진동을 줄이고, 더 나은 최적점을 찾을 수 있게 합니다.\n",
        "*   자동 학습률 조정: 수동으로 학습률을 조정할 필요 없이 자동으로 관리됩니다.\n",
        "\n"
      ],
      "metadata": {
        "id": "50PqPbjL0WUD"
      }
    },
    {
      "cell_type": "code",
      "source": [
        "# Early Stopping: 검증 손실이 10에폭 동안 개선되지 않으면 학습 중단\n",
        "early_stopping = keras.callbacks.EarlyStopping(\n",
        "    monitor='val_loss',\n",
        "    patience=10,\n",
        "    restore_best_weights=True\n",
        ")\n",
        "\n",
        "# 학습률 감소: 검증 손실이 5에폭 동안 개선되지 않으면 학습률을 0.2배로 감소\n",
        "reduce_lr = keras.callbacks.ReduceLROnPlateau(\n",
        "    monitor='val_loss',\n",
        "    factor=0.2,\n",
        "    patience=5,\n",
        "    min_lr=0.0001\n",
        ")\n",
        "\n",
        "# 모델 체크포인트: 가장 좋은 검증 정확도를 가진 모델 저장\n",
        "model_checkpoint = keras.callbacks.ModelCheckpoint(\n",
        "    'best_model.keras',\n",
        "    save_best_only=True,\n",
        "    monitor='val_accuracy'\n",
        ")"
      ],
      "metadata": {
        "id": "vhqr-UQLkSiy"
      },
      "execution_count": 6,
      "outputs": []
    },
    {
      "cell_type": "markdown",
      "source": [
        "# 5. 모델 학습\n",
        "---\n",
        "\n",
        "\n",
        "*   모델 학습\n",
        "*   배치 크기, 에폭 수, 검증 데이터, 콜백 함수 등을 지정하여 학습을 제어합\n",
        "\n",
        "\n"
      ],
      "metadata": {
        "id": "808u8Vtk0mli"
      }
    },
    {
      "cell_type": "code",
      "source": [
        "# 모델 학습 실행\n",
        "history = model.fit(\n",
        "    train_images, train_labels,\n",
        "    epochs=50,  # 최대 50 에폭 학습\n",
        "    batch_size=128,  # 배치 크기 128\n",
        "    validation_data=(val_images, val_labels),  # 검증 데이터 지정\n",
        "    callbacks=[early_stopping, reduce_lr, model_checkpoint],  # 콜백 함수 적용\n",
        "    verbose=1  # 학습 과정 출력\n",
        ")"
      ],
      "metadata": {
        "colab": {
          "base_uri": "https://localhost:8080/"
        },
        "id": "N5XuhoqUkVMv",
        "outputId": "b77efab0-a9ff-4a89-cea6-fc5fca822e5a"
      },
      "execution_count": 7,
      "outputs": [
        {
          "output_type": "stream",
          "name": "stdout",
          "text": [
            "Epoch 1/50\n",
            "\u001b[1m391/391\u001b[0m \u001b[32m━━━━━━━━━━━━━━━━━━━━\u001b[0m\u001b[37m\u001b[0m \u001b[1m70s\u001b[0m 168ms/step - accuracy: 0.7144 - loss: 0.9500 - val_accuracy: 0.1927 - val_loss: 4.1446 - learning_rate: 0.0010\n",
            "Epoch 2/50\n",
            "\u001b[1m391/391\u001b[0m \u001b[32m━━━━━━━━━━━━━━━━━━━━\u001b[0m\u001b[37m\u001b[0m \u001b[1m76s\u001b[0m 154ms/step - accuracy: 0.9501 - loss: 0.1600 - val_accuracy: 0.9806 - val_loss: 0.0663 - learning_rate: 0.0010\n",
            "Epoch 3/50\n",
            "\u001b[1m391/391\u001b[0m \u001b[32m━━━━━━━━━━━━━━━━━━━━\u001b[0m\u001b[37m\u001b[0m \u001b[1m83s\u001b[0m 157ms/step - accuracy: 0.9665 - loss: 0.1090 - val_accuracy: 0.9856 - val_loss: 0.0470 - learning_rate: 0.0010\n",
            "Epoch 4/50\n",
            "\u001b[1m391/391\u001b[0m \u001b[32m━━━━━━━━━━━━━━━━━━━━\u001b[0m\u001b[37m\u001b[0m \u001b[1m82s\u001b[0m 156ms/step - accuracy: 0.9729 - loss: 0.0850 - val_accuracy: 0.9874 - val_loss: 0.0420 - learning_rate: 0.0010\n",
            "Epoch 5/50\n",
            "\u001b[1m391/391\u001b[0m \u001b[32m━━━━━━━━━━━━━━━━━━━━\u001b[0m\u001b[37m\u001b[0m \u001b[1m60s\u001b[0m 153ms/step - accuracy: 0.9767 - loss: 0.0776 - val_accuracy: 0.9885 - val_loss: 0.0392 - learning_rate: 0.0010\n",
            "Epoch 6/50\n",
            "\u001b[1m391/391\u001b[0m \u001b[32m━━━━━━━━━━━━━━━━━━━━\u001b[0m\u001b[37m\u001b[0m \u001b[1m83s\u001b[0m 156ms/step - accuracy: 0.9794 - loss: 0.0672 - val_accuracy: 0.9899 - val_loss: 0.0336 - learning_rate: 0.0010\n",
            "Epoch 7/50\n",
            "\u001b[1m391/391\u001b[0m \u001b[32m━━━━━━━━━━━━━━━━━━━━\u001b[0m\u001b[37m\u001b[0m \u001b[1m82s\u001b[0m 155ms/step - accuracy: 0.9794 - loss: 0.0632 - val_accuracy: 0.9895 - val_loss: 0.0352 - learning_rate: 0.0010\n",
            "Epoch 8/50\n",
            "\u001b[1m391/391\u001b[0m \u001b[32m━━━━━━━━━━━━━━━━━━━━\u001b[0m\u001b[37m\u001b[0m \u001b[1m81s\u001b[0m 152ms/step - accuracy: 0.9829 - loss: 0.0569 - val_accuracy: 0.9893 - val_loss: 0.0340 - learning_rate: 0.0010\n",
            "Epoch 9/50\n",
            "\u001b[1m391/391\u001b[0m \u001b[32m━━━━━━━━━━━━━━━━━━━━\u001b[0m\u001b[37m\u001b[0m \u001b[1m85s\u001b[0m 160ms/step - accuracy: 0.9835 - loss: 0.0532 - val_accuracy: 0.9910 - val_loss: 0.0292 - learning_rate: 0.0010\n",
            "Epoch 10/50\n",
            "\u001b[1m391/391\u001b[0m \u001b[32m━━━━━━━━━━━━━━━━━━━━\u001b[0m\u001b[37m\u001b[0m \u001b[1m62s\u001b[0m 157ms/step - accuracy: 0.9828 - loss: 0.0532 - val_accuracy: 0.9924 - val_loss: 0.0282 - learning_rate: 0.0010\n",
            "Epoch 11/50\n",
            "\u001b[1m391/391\u001b[0m \u001b[32m━━━━━━━━━━━━━━━━━━━━\u001b[0m\u001b[37m\u001b[0m \u001b[1m81s\u001b[0m 155ms/step - accuracy: 0.9863 - loss: 0.0462 - val_accuracy: 0.9917 - val_loss: 0.0287 - learning_rate: 0.0010\n",
            "Epoch 12/50\n",
            "\u001b[1m391/391\u001b[0m \u001b[32m━━━━━━━━━━━━━━━━━━━━\u001b[0m\u001b[37m\u001b[0m \u001b[1m82s\u001b[0m 156ms/step - accuracy: 0.9862 - loss: 0.0448 - val_accuracy: 0.9929 - val_loss: 0.0267 - learning_rate: 0.0010\n",
            "Epoch 13/50\n",
            "\u001b[1m391/391\u001b[0m \u001b[32m━━━━━━━━━━━━━━━━━━━━\u001b[0m\u001b[37m\u001b[0m \u001b[1m81s\u001b[0m 154ms/step - accuracy: 0.9872 - loss: 0.0434 - val_accuracy: 0.9923 - val_loss: 0.0279 - learning_rate: 0.0010\n",
            "Epoch 14/50\n",
            "\u001b[1m391/391\u001b[0m \u001b[32m━━━━━━━━━━━━━━━━━━━━\u001b[0m\u001b[37m\u001b[0m \u001b[1m82s\u001b[0m 154ms/step - accuracy: 0.9867 - loss: 0.0443 - val_accuracy: 0.9894 - val_loss: 0.0355 - learning_rate: 0.0010\n",
            "Epoch 15/50\n",
            "\u001b[1m391/391\u001b[0m \u001b[32m━━━━━━━━━━━━━━━━━━━━\u001b[0m\u001b[37m\u001b[0m \u001b[1m84s\u001b[0m 161ms/step - accuracy: 0.9892 - loss: 0.0369 - val_accuracy: 0.9897 - val_loss: 0.0366 - learning_rate: 0.0010\n",
            "Epoch 16/50\n",
            "\u001b[1m391/391\u001b[0m \u001b[32m━━━━━━━━━━━━━━━━━━━━\u001b[0m\u001b[37m\u001b[0m \u001b[1m80s\u001b[0m 157ms/step - accuracy: 0.9876 - loss: 0.0381 - val_accuracy: 0.9928 - val_loss: 0.0289 - learning_rate: 0.0010\n",
            "Epoch 17/50\n",
            "\u001b[1m391/391\u001b[0m \u001b[32m━━━━━━━━━━━━━━━━━━━━\u001b[0m\u001b[37m\u001b[0m \u001b[1m81s\u001b[0m 154ms/step - accuracy: 0.9867 - loss: 0.0400 - val_accuracy: 0.9925 - val_loss: 0.0292 - learning_rate: 0.0010\n",
            "Epoch 18/50\n",
            "\u001b[1m391/391\u001b[0m \u001b[32m━━━━━━━━━━━━━━━━━━━━\u001b[0m\u001b[37m\u001b[0m \u001b[1m81s\u001b[0m 153ms/step - accuracy: 0.9898 - loss: 0.0327 - val_accuracy: 0.9934 - val_loss: 0.0245 - learning_rate: 2.0000e-04\n",
            "Epoch 19/50\n",
            "\u001b[1m391/391\u001b[0m \u001b[32m━━━━━━━━━━━━━━━━━━━━\u001b[0m\u001b[37m\u001b[0m \u001b[1m83s\u001b[0m 157ms/step - accuracy: 0.9901 - loss: 0.0287 - val_accuracy: 0.9937 - val_loss: 0.0239 - learning_rate: 2.0000e-04\n",
            "Epoch 20/50\n",
            "\u001b[1m391/391\u001b[0m \u001b[32m━━━━━━━━━━━━━━━━━━━━\u001b[0m\u001b[37m\u001b[0m \u001b[1m60s\u001b[0m 153ms/step - accuracy: 0.9913 - loss: 0.0278 - val_accuracy: 0.9937 - val_loss: 0.0241 - learning_rate: 2.0000e-04\n",
            "Epoch 21/50\n",
            "\u001b[1m391/391\u001b[0m \u001b[32m━━━━━━━━━━━━━━━━━━━━\u001b[0m\u001b[37m\u001b[0m \u001b[1m60s\u001b[0m 154ms/step - accuracy: 0.9901 - loss: 0.0295 - val_accuracy: 0.9934 - val_loss: 0.0244 - learning_rate: 2.0000e-04\n",
            "Epoch 22/50\n",
            "\u001b[1m391/391\u001b[0m \u001b[32m━━━━━━━━━━━━━━━━━━━━\u001b[0m\u001b[37m\u001b[0m \u001b[1m83s\u001b[0m 157ms/step - accuracy: 0.9912 - loss: 0.0273 - val_accuracy: 0.9933 - val_loss: 0.0247 - learning_rate: 2.0000e-04\n",
            "Epoch 23/50\n",
            "\u001b[1m391/391\u001b[0m \u001b[32m━━━━━━━━━━━━━━━━━━━━\u001b[0m\u001b[37m\u001b[0m \u001b[1m60s\u001b[0m 153ms/step - accuracy: 0.9915 - loss: 0.0267 - val_accuracy: 0.9930 - val_loss: 0.0237 - learning_rate: 2.0000e-04\n",
            "Epoch 24/50\n",
            "\u001b[1m391/391\u001b[0m \u001b[32m━━━━━━━━━━━━━━━━━━━━\u001b[0m\u001b[37m\u001b[0m \u001b[1m83s\u001b[0m 157ms/step - accuracy: 0.9907 - loss: 0.0292 - val_accuracy: 0.9927 - val_loss: 0.0243 - learning_rate: 2.0000e-04\n",
            "Epoch 25/50\n",
            "\u001b[1m391/391\u001b[0m \u001b[32m━━━━━━━━━━━━━━━━━━━━\u001b[0m\u001b[37m\u001b[0m \u001b[1m82s\u001b[0m 156ms/step - accuracy: 0.9914 - loss: 0.0278 - val_accuracy: 0.9933 - val_loss: 0.0239 - learning_rate: 2.0000e-04\n",
            "Epoch 26/50\n",
            "\u001b[1m391/391\u001b[0m \u001b[32m━━━━━━━━━━━━━━━━━━━━\u001b[0m\u001b[37m\u001b[0m \u001b[1m60s\u001b[0m 153ms/step - accuracy: 0.9917 - loss: 0.0263 - val_accuracy: 0.9933 - val_loss: 0.0246 - learning_rate: 2.0000e-04\n",
            "Epoch 27/50\n",
            "\u001b[1m391/391\u001b[0m \u001b[32m━━━━━━━━━━━━━━━━━━━━\u001b[0m\u001b[37m\u001b[0m \u001b[1m61s\u001b[0m 157ms/step - accuracy: 0.9923 - loss: 0.0251 - val_accuracy: 0.9936 - val_loss: 0.0236 - learning_rate: 2.0000e-04\n",
            "Epoch 28/50\n",
            "\u001b[1m391/391\u001b[0m \u001b[32m━━━━━━━━━━━━━━━━━━━━\u001b[0m\u001b[37m\u001b[0m \u001b[1m60s\u001b[0m 153ms/step - accuracy: 0.9920 - loss: 0.0235 - val_accuracy: 0.9936 - val_loss: 0.0244 - learning_rate: 2.0000e-04\n",
            "Epoch 29/50\n",
            "\u001b[1m391/391\u001b[0m \u001b[32m━━━━━━━━━━━━━━━━━━━━\u001b[0m\u001b[37m\u001b[0m \u001b[1m83s\u001b[0m 155ms/step - accuracy: 0.9920 - loss: 0.0238 - val_accuracy: 0.9939 - val_loss: 0.0247 - learning_rate: 2.0000e-04\n",
            "Epoch 30/50\n",
            "\u001b[1m391/391\u001b[0m \u001b[32m━━━━━━━━━━━━━━━━━━━━\u001b[0m\u001b[37m\u001b[0m \u001b[1m60s\u001b[0m 154ms/step - accuracy: 0.9925 - loss: 0.0230 - val_accuracy: 0.9933 - val_loss: 0.0251 - learning_rate: 2.0000e-04\n",
            "Epoch 31/50\n",
            "\u001b[1m391/391\u001b[0m \u001b[32m━━━━━━━━━━━━━━━━━━━━\u001b[0m\u001b[37m\u001b[0m \u001b[1m81s\u001b[0m 153ms/step - accuracy: 0.9922 - loss: 0.0238 - val_accuracy: 0.9936 - val_loss: 0.0246 - learning_rate: 2.0000e-04\n",
            "Epoch 32/50\n",
            "\u001b[1m391/391\u001b[0m \u001b[32m━━━━━━━━━━━━━━━━━━━━\u001b[0m\u001b[37m\u001b[0m \u001b[1m61s\u001b[0m 156ms/step - accuracy: 0.9934 - loss: 0.0226 - val_accuracy: 0.9939 - val_loss: 0.0241 - learning_rate: 2.0000e-04\n",
            "Epoch 33/50\n",
            "\u001b[1m391/391\u001b[0m \u001b[32m━━━━━━━━━━━━━━━━━━━━\u001b[0m\u001b[37m\u001b[0m \u001b[1m60s\u001b[0m 153ms/step - accuracy: 0.9926 - loss: 0.0237 - val_accuracy: 0.9934 - val_loss: 0.0246 - learning_rate: 1.0000e-04\n",
            "Epoch 34/50\n",
            "\u001b[1m391/391\u001b[0m \u001b[32m━━━━━━━━━━━━━━━━━━━━\u001b[0m\u001b[37m\u001b[0m \u001b[1m62s\u001b[0m 158ms/step - accuracy: 0.9931 - loss: 0.0227 - val_accuracy: 0.9937 - val_loss: 0.0239 - learning_rate: 1.0000e-04\n",
            "Epoch 35/50\n",
            "\u001b[1m391/391\u001b[0m \u001b[32m━━━━━━━━━━━━━━━━━━━━\u001b[0m\u001b[37m\u001b[0m \u001b[1m82s\u001b[0m 157ms/step - accuracy: 0.9929 - loss: 0.0208 - val_accuracy: 0.9941 - val_loss: 0.0237 - learning_rate: 1.0000e-04\n",
            "Epoch 36/50\n",
            "\u001b[1m391/391\u001b[0m \u001b[32m━━━━━━━━━━━━━━━━━━━━\u001b[0m\u001b[37m\u001b[0m \u001b[1m81s\u001b[0m 154ms/step - accuracy: 0.9929 - loss: 0.0231 - val_accuracy: 0.9945 - val_loss: 0.0228 - learning_rate: 1.0000e-04\n",
            "Epoch 37/50\n",
            "\u001b[1m391/391\u001b[0m \u001b[32m━━━━━━━━━━━━━━━━━━━━\u001b[0m\u001b[37m\u001b[0m \u001b[1m82s\u001b[0m 153ms/step - accuracy: 0.9939 - loss: 0.0192 - val_accuracy: 0.9937 - val_loss: 0.0243 - learning_rate: 1.0000e-04\n",
            "Epoch 38/50\n",
            "\u001b[1m391/391\u001b[0m \u001b[32m━━━━━━━━━━━━━━━━━━━━\u001b[0m\u001b[37m\u001b[0m \u001b[1m61s\u001b[0m 157ms/step - accuracy: 0.9932 - loss: 0.0208 - val_accuracy: 0.9937 - val_loss: 0.0245 - learning_rate: 1.0000e-04\n",
            "Epoch 39/50\n",
            "\u001b[1m391/391\u001b[0m \u001b[32m━━━━━━━━━━━━━━━━━━━━\u001b[0m\u001b[37m\u001b[0m \u001b[1m60s\u001b[0m 153ms/step - accuracy: 0.9938 - loss: 0.0187 - val_accuracy: 0.9941 - val_loss: 0.0231 - learning_rate: 1.0000e-04\n",
            "Epoch 40/50\n",
            "\u001b[1m391/391\u001b[0m \u001b[32m━━━━━━━━━━━━━━━━━━━━\u001b[0m\u001b[37m\u001b[0m \u001b[1m83s\u001b[0m 156ms/step - accuracy: 0.9937 - loss: 0.0193 - val_accuracy: 0.9941 - val_loss: 0.0229 - learning_rate: 1.0000e-04\n",
            "Epoch 41/50\n",
            "\u001b[1m391/391\u001b[0m \u001b[32m━━━━━━━━━━━━━━━━━━━━\u001b[0m\u001b[37m\u001b[0m \u001b[1m60s\u001b[0m 154ms/step - accuracy: 0.9937 - loss: 0.0191 - val_accuracy: 0.9938 - val_loss: 0.0233 - learning_rate: 1.0000e-04\n",
            "Epoch 42/50\n",
            "\u001b[1m391/391\u001b[0m \u001b[32m━━━━━━━━━━━━━━━━━━━━\u001b[0m\u001b[37m\u001b[0m \u001b[1m81s\u001b[0m 153ms/step - accuracy: 0.9929 - loss: 0.0214 - val_accuracy: 0.9939 - val_loss: 0.0238 - learning_rate: 1.0000e-04\n",
            "Epoch 43/50\n",
            "\u001b[1m391/391\u001b[0m \u001b[32m━━━━━━━━━━━━━━━━━━━━\u001b[0m\u001b[37m\u001b[0m \u001b[1m62s\u001b[0m 157ms/step - accuracy: 0.9931 - loss: 0.0212 - val_accuracy: 0.9940 - val_loss: 0.0231 - learning_rate: 1.0000e-04\n",
            "Epoch 44/50\n",
            "\u001b[1m391/391\u001b[0m \u001b[32m━━━━━━━━━━━━━━━━━━━━\u001b[0m\u001b[37m\u001b[0m \u001b[1m81s\u001b[0m 154ms/step - accuracy: 0.9940 - loss: 0.0190 - val_accuracy: 0.9936 - val_loss: 0.0228 - learning_rate: 1.0000e-04\n",
            "Epoch 45/50\n",
            "\u001b[1m391/391\u001b[0m \u001b[32m━━━━━━━━━━━━━━━━━━━━\u001b[0m\u001b[37m\u001b[0m \u001b[1m82s\u001b[0m 154ms/step - accuracy: 0.9940 - loss: 0.0197 - val_accuracy: 0.9941 - val_loss: 0.0233 - learning_rate: 1.0000e-04\n",
            "Epoch 46/50\n",
            "\u001b[1m391/391\u001b[0m \u001b[32m━━━━━━━━━━━━━━━━━━━━\u001b[0m\u001b[37m\u001b[0m \u001b[1m61s\u001b[0m 157ms/step - accuracy: 0.9933 - loss: 0.0197 - val_accuracy: 0.9940 - val_loss: 0.0237 - learning_rate: 1.0000e-04\n",
            "Epoch 47/50\n",
            "\u001b[1m391/391\u001b[0m \u001b[32m━━━━━━━━━━━━━━━━━━━━\u001b[0m\u001b[37m\u001b[0m \u001b[1m60s\u001b[0m 153ms/step - accuracy: 0.9934 - loss: 0.0204 - val_accuracy: 0.9936 - val_loss: 0.0234 - learning_rate: 1.0000e-04\n",
            "Epoch 48/50\n",
            "\u001b[1m391/391\u001b[0m \u001b[32m━━━━━━━━━━━━━━━━━━━━\u001b[0m\u001b[37m\u001b[0m \u001b[1m83s\u001b[0m 157ms/step - accuracy: 0.9934 - loss: 0.0199 - val_accuracy: 0.9938 - val_loss: 0.0236 - learning_rate: 1.0000e-04\n",
            "Epoch 49/50\n",
            "\u001b[1m391/391\u001b[0m \u001b[32m━━━━━━━━━━━━━━━━━━━━\u001b[0m\u001b[37m\u001b[0m \u001b[1m60s\u001b[0m 153ms/step - accuracy: 0.9940 - loss: 0.0192 - val_accuracy: 0.9940 - val_loss: 0.0233 - learning_rate: 1.0000e-04\n",
            "Epoch 50/50\n",
            "\u001b[1m391/391\u001b[0m \u001b[32m━━━━━━━━━━━━━━━━━━━━\u001b[0m\u001b[37m\u001b[0m \u001b[1m62s\u001b[0m 158ms/step - accuracy: 0.9936 - loss: 0.0212 - val_accuracy: 0.9934 - val_loss: 0.0233 - learning_rate: 1.0000e-04\n"
          ]
        }
      ]
    },
    {
      "cell_type": "markdown",
      "source": [
        "# 6. 학습 과정 시각화\n",
        "---\n",
        "\n",
        "\n",
        "*   학습 과정에서의 정확도와 손실 변화를 시각화\n",
        "*   모델의 학습 진행 상황과 과적합 여부를 파악 가능\n",
        "\n"
      ],
      "metadata": {
        "id": "k_vMCoHZ0z8z"
      }
    },
    {
      "cell_type": "code",
      "source": [
        "plt.figure(figsize=(12, 4))\n",
        "\n",
        "# 정확도 그래프\n",
        "plt.subplot(1, 2, 1)\n",
        "plt.plot(history.history['accuracy'], label='Training Accuracy')\n",
        "plt.plot(history.history['val_accuracy'], label='Validation Accuracy')\n",
        "plt.title('Model Accuracy')\n",
        "plt.xlabel('Epoch')\n",
        "plt.ylabel('Accuracy')\n",
        "plt.legend()\n",
        "\n",
        "# 손실 그래프\n",
        "plt.subplot(1, 2, 2)\n",
        "plt.plot(history.history['loss'], label='Training Loss')\n",
        "plt.plot(history.history['val_loss'], label='Validation Loss')\n",
        "plt.title('Model Loss')\n",
        "plt.xlabel('Epoch')\n",
        "plt.ylabel('Loss')\n",
        "plt.legend()\n",
        "\n",
        "plt.tight_layout()\n",
        "plt.show()"
      ],
      "metadata": {
        "colab": {
          "base_uri": "https://localhost:8080/",
          "height": 407
        },
        "id": "JptBe9gSkafs",
        "outputId": "ebcf3f42-4ba4-4764-a93b-ecf0ccf1a5be"
      },
      "execution_count": 8,
      "outputs": [
        {
          "output_type": "display_data",
          "data": {
            "text/plain": [
              "<Figure size 1200x400 with 2 Axes>"
            ],
            "image/png": "[encoded data removed]"
          },
          "metadata": {}
        }
      ]
    },
    {
      "cell_type": "markdown",
      "source": [
        "# 7. 모델 평가 및 결과 출력\n",
        "---\n",
        "\n",
        "\n",
        "*   저장된 최고 성능 모델을 로드하고 검증 세트와 테스트 세트에 대한 성능을 평가\n",
        "*   모델의 일반화 성능을 확인하고, 과적합 여부를 판단\n",
        "*   best_model.keras는 추후 202235339최민영.keras라는 파일명으로 바뀔 예정\n",
        "\n"
      ],
      "metadata": {
        "id": "8KV8JK0i08Iy"
      }
    },
    {
      "cell_type": "code",
      "source": [
        "# 최고 성능 모델 로드\n",
        "best_model = keras.models.load_model('best_model.keras')\n",
        "\n",
        "# 검증 세트와 테스트 세트에 대한 성능 평가\n",
        "val_loss, val_accuracy = best_model.evaluate(val_images, val_labels)\n",
        "test_loss, test_accuracy = best_model.evaluate(test_images, test_labels)\n",
        "\n",
        "# 결과 출력\n",
        "print(f\"검증 세트 손실: {val_loss:.4f}\")\n",
        "print(f\"검증 세트 정확도: {val_accuracy:.4f}\")\n",
        "print(f\"테스트 세트 손실: {test_loss:.4f}\")\n",
        "print(f\"테스트 세트 정확도: {test_accuracy:.4f}\")\n",
        "print(f\"손실 차이: {abs(val_loss - test_loss):.4f}\")\n",
        "print(f\"정확도 차이: {abs(val_accuracy - test_accuracy):.4f}\")\n",
        "\n",
        "print(\"최고 성능 모델이 'best_model.keras'로 저장되었습니다.\")"
      ],
      "metadata": {
        "colab": {
          "base_uri": "https://localhost:8080/"
        },
        "id": "Kxmn6IVukdP0",
        "outputId": "7a35b2ce-eba0-4a97-fe85-53d7cd2a1eac"
      },
      "execution_count": 12,
      "outputs": [
        {
          "output_type": "stream",
          "name": "stdout",
          "text": [
            "\u001b[1m313/313\u001b[0m \u001b[32m━━━━━━━━━━━━━━━━━━━━\u001b[0m\u001b[37m\u001b[0m \u001b[1m4s\u001b[0m 12ms/step - accuracy: 0.9948 - loss: 0.0210\n",
            "\u001b[1m313/313\u001b[0m \u001b[32m━━━━━━━━━━━━━━━━━━━━\u001b[0m\u001b[37m\u001b[0m \u001b[1m4s\u001b[0m 12ms/step - accuracy: 0.9942 - loss: 0.0211\n",
            "검증 세트 손실: 0.0228\n",
            "검증 세트 정확도: 0.9945\n",
            "테스트 세트 손실: 0.0179\n",
            "테스트 세트 정확도: 0.9952\n",
            "손실 차이: 0.0050\n",
            "정확도 차이: 0.0007\n",
            "최고 성능 모델이 'best_model.keras'로 저장되었습니다.\n"
          ]
        }
      ]
    }
  ]
}