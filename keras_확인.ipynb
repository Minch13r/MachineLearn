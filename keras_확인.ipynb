{
  "nbformat": 4,
  "nbformat_minor": 0,
  "metadata": {
    "colab": {
      "provenance": [],
      "authorship_tag": "ABX9TyP/JIwaS8F1G1BAqEidu6Fk",
      "include_colab_link": true
    },
    "kernelspec": {
      "name": "python3",
      "display_name": "Python 3"
    },
    "language_info": {
      "name": "python"
    }
  },
  "cells": [
    {
      "cell_type": "markdown",
      "metadata": {
        "id": "view-in-github",
        "colab_type": "text"
      },
      "source": [
        "<a href=\"https://colab.research.google.com/github/Minch13r/MachineLearn/blob/main/keras_%ED%99%95%EC%9D%B8.ipynb\" target=\"_parent\"><img src=\"https://colab.research.google.com/assets/colab-badge.svg\" alt=\"Open In Colab\"/></a>"
      ]
    },
    {
      "cell_type": "code",
      "execution_count": 1,
      "metadata": {
        "colab": {
          "base_uri": "https://localhost:8080/"
        },
        "id": "SoHLIEpz6nOr",
        "outputId": "8d89becf-f757-429e-da8d-1c432112df30"
      },
      "outputs": [
        {
          "output_type": "stream",
          "name": "stdout",
          "text": [
            "Mounted at /content/gdrive/\n"
          ]
        }
      ],
      "source": [
        "from google.colab import drive\n",
        "drive.mount('/content/gdrive/')"
      ]
    },
    {
      "cell_type": "code",
      "source": [
        "import tensorflow as tf\n",
        "from tensorflow import keras\n",
        "import numpy as np\n",
        "\n",
        "def analyze_model(model):\n",
        "    print(\"\\n=== 모델 구조 요약 ===\")\n",
        "    model.summary()\n",
        "\n",
        "    print(\"\\n=== 레이어 상세 정보 ===\")\n",
        "    for i, layer in enumerate(model.layers):\n",
        "        print(f\"\\n레이어 {i+1}:\")\n",
        "        print(f\"- 이름: {layer.name}\")\n",
        "        print(f\"- 타입: {layer.__class__.__name__}\")\n",
        "\n",
        "        # 출력 형태를 get_output_at 메서드를 사용하여 얻기\n",
        "        try:\n",
        "            output_shape = layer.output.shape\n",
        "            print(f\"- 출력 형태: {output_shape}\")\n",
        "        except:\n",
        "            print(\"- 출력 형태: 정보를 얻을 수 없음\")\n",
        "\n",
        "        print(f\"- 파라미터 수: {layer.count_params():,}개\")\n",
        "\n",
        "        # 레이어 특정 정보\n",
        "        if isinstance(layer, keras.layers.Conv2D):\n",
        "            print(f\"- 필터 수: {layer.filters}\")\n",
        "            print(f\"- 커널 크기: {layer.kernel_size}\")\n",
        "            print(f\"- 스트라이드: {layer.strides}\")\n",
        "            print(f\"- 패딩: {layer.padding}\")\n",
        "            if hasattr(layer, 'activation'):\n",
        "                print(f\"- 활성화 함수: {layer.activation.__name__}\")\n",
        "\n",
        "        elif isinstance(layer, keras.layers.Dense):\n",
        "            print(f\"- 뉴런 수: {layer.units}\")\n",
        "            if hasattr(layer, 'activation'):\n",
        "                print(f\"- 활성화 함수: {layer.activation.__name__}\")\n",
        "\n",
        "        elif isinstance(layer, keras.layers.Dropout):\n",
        "            print(f\"- 드롭아웃 비율: {layer.rate}\")\n",
        "\n",
        "        elif isinstance(layer, keras.layers.BatchNormalization):\n",
        "            print(f\"- 축: {layer.axis}\")\n",
        "            print(f\"- 모멘텀: {layer.momentum}\")\n",
        "            print(f\"- 입실론: {layer.epsilon}\")\n",
        "\n",
        "        elif isinstance(layer, keras.layers.MaxPooling2D):\n",
        "            print(f\"- 풀 크기: {layer.pool_size}\")\n",
        "            print(f\"- 스트라이드: {layer.strides}\")\n",
        "            print(f\"- 패딩: {layer.padding}\")\n",
        "\n",
        "    # 모델 컴파일 정보\n",
        "    print(\"\\n=== 모델 컴파일 정보 ===\")\n",
        "    print(f\"옵티마이저: {model.optimizer.__class__.__name__}\")\n",
        "\n",
        "    # 손실 함수 정보 출력\n",
        "    if hasattr(model, 'loss'):\n",
        "        if isinstance(model.loss, str):\n",
        "            print(f\"손실 함수: {model.loss}\")\n",
        "        else:\n",
        "            print(f\"손실 함수: {model.loss.__name__ if hasattr(model.loss, '__name__') else str(model.loss)}\")\n",
        "\n",
        "    # 메트릭스 정보 출력\n",
        "    if hasattr(model, 'metrics'):\n",
        "        metrics_names = [m.name if hasattr(m, 'name') else str(m) for m in model.metrics]\n",
        "        print(f\"평가 지표: {metrics_names}\")\n",
        "\n",
        "    # 전체 파라미터 정보\n",
        "    trainable_params = np.sum([np.prod(v.get_shape()) for v in model.trainable_weights])\n",
        "    non_trainable_params = np.sum([np.prod(v.get_shape()) for v in model.non_trainable_weights])\n",
        "    print(f\"\\n=== 파라미터 정보 ===\")\n",
        "    print(f\"총 파라미터 수: {model.count_params():,}개\")\n",
        "    print(f\"학습 가능 파라미터: {int(trainable_params):,}개\")\n",
        "    print(f\"학습 불가능 파라미터: {int(non_trainable_params):,}개\")\n",
        "\n",
        "try:\n",
        "    model = keras.models.load_model('/content/gdrive/MyDrive/202235339최민영.keras')\n",
        "    analyze_model(model)\n",
        "except Exception as e:\n",
        "    print(f\"모델 분석 중 오류 발생: {str(e)}\")\n",
        "    import traceback\n",
        "    traceback.print_exc()\n"
      ],
      "metadata": {
        "colab": {
          "base_uri": "https://localhost:8080/",
          "height": 1000
        },
        "id": "S6HWBo4q6pAp",
        "outputId": "13a46c61-1bb5-412c-f470-a1a72948313c"
      },
      "execution_count": 8,
      "outputs": [
        {
          "output_type": "stream",
          "name": "stdout",
          "text": [
            "\n",
            "=== 모델 구조 요약 ===\n"
          ]
        },
        {
          "output_type": "display_data",
          "data": {
            "text/plain": [
              "\u001b[1mModel: \"sequential_1\"\u001b[0m\n"
            ],
            "text/html": [
              "<pre style=\"white-space:pre;overflow-x:auto;line-height:normal;font-family:Menlo,'DejaVu Sans Mono',consolas,'Courier New',monospace\"><span style=\"font-weight: bold\">Model: \"sequential_1\"</span>\n",
              "</pre>\n"
            ]
          },
          "metadata": {}
        },
        {
          "output_type": "display_data",
          "data": {
            "text/plain": [
              "┏━━━━━━━━━━━━━━━━━━━━━━━━━━━━━━━━━━━━━━┳━━━━━━━━━━━━━━━━━━━━━━━━━━━━━┳━━━━━━━━━━━━━━━━━┓\n",
              "┃\u001b[1m \u001b[0m\u001b[1mLayer (type)                        \u001b[0m\u001b[1m \u001b[0m┃\u001b[1m \u001b[0m\u001b[1mOutput Shape               \u001b[0m\u001b[1m \u001b[0m┃\u001b[1m \u001b[0m\u001b[1m        Param #\u001b[0m\u001b[1m \u001b[0m┃\n",
              "┡━━━━━━━━━━━━━━━━━━━━━━━━━━━━━━━━━━━━━━╇━━━━━━━━━━━━━━━━━━━━━━━━━━━━━╇━━━━━━━━━━━━━━━━━┩\n",
              "│ conv2d_3 (\u001b[38;5;33mConv2D\u001b[0m)                    │ (\u001b[38;5;45mNone\u001b[0m, \u001b[38;5;34m26\u001b[0m, \u001b[38;5;34m26\u001b[0m, \u001b[38;5;34m32\u001b[0m)          │             \u001b[38;5;34m320\u001b[0m │\n",
              "├──────────────────────────────────────┼─────────────────────────────┼─────────────────┤\n",
              "│ batch_normalization_4                │ (\u001b[38;5;45mNone\u001b[0m, \u001b[38;5;34m26\u001b[0m, \u001b[38;5;34m26\u001b[0m, \u001b[38;5;34m32\u001b[0m)          │             \u001b[38;5;34m128\u001b[0m │\n",
              "│ (\u001b[38;5;33mBatchNormalization\u001b[0m)                 │                             │                 │\n",
              "├──────────────────────────────────────┼─────────────────────────────┼─────────────────┤\n",
              "│ max_pooling2d_2 (\u001b[38;5;33mMaxPooling2D\u001b[0m)       │ (\u001b[38;5;45mNone\u001b[0m, \u001b[38;5;34m13\u001b[0m, \u001b[38;5;34m13\u001b[0m, \u001b[38;5;34m32\u001b[0m)          │               \u001b[38;5;34m0\u001b[0m │\n",
              "├──────────────────────────────────────┼─────────────────────────────┼─────────────────┤\n",
              "│ dropout_4 (\u001b[38;5;33mDropout\u001b[0m)                  │ (\u001b[38;5;45mNone\u001b[0m, \u001b[38;5;34m13\u001b[0m, \u001b[38;5;34m13\u001b[0m, \u001b[38;5;34m32\u001b[0m)          │               \u001b[38;5;34m0\u001b[0m │\n",
              "├──────────────────────────────────────┼─────────────────────────────┼─────────────────┤\n",
              "│ conv2d_4 (\u001b[38;5;33mConv2D\u001b[0m)                    │ (\u001b[38;5;45mNone\u001b[0m, \u001b[38;5;34m11\u001b[0m, \u001b[38;5;34m11\u001b[0m, \u001b[38;5;34m64\u001b[0m)          │          \u001b[38;5;34m18,496\u001b[0m │\n",
              "├──────────────────────────────────────┼─────────────────────────────┼─────────────────┤\n",
              "│ batch_normalization_5                │ (\u001b[38;5;45mNone\u001b[0m, \u001b[38;5;34m11\u001b[0m, \u001b[38;5;34m11\u001b[0m, \u001b[38;5;34m64\u001b[0m)          │             \u001b[38;5;34m256\u001b[0m │\n",
              "│ (\u001b[38;5;33mBatchNormalization\u001b[0m)                 │                             │                 │\n",
              "├──────────────────────────────────────┼─────────────────────────────┼─────────────────┤\n",
              "│ max_pooling2d_3 (\u001b[38;5;33mMaxPooling2D\u001b[0m)       │ (\u001b[38;5;45mNone\u001b[0m, \u001b[38;5;34m5\u001b[0m, \u001b[38;5;34m5\u001b[0m, \u001b[38;5;34m64\u001b[0m)            │               \u001b[38;5;34m0\u001b[0m │\n",
              "├──────────────────────────────────────┼─────────────────────────────┼─────────────────┤\n",
              "│ dropout_5 (\u001b[38;5;33mDropout\u001b[0m)                  │ (\u001b[38;5;45mNone\u001b[0m, \u001b[38;5;34m5\u001b[0m, \u001b[38;5;34m5\u001b[0m, \u001b[38;5;34m64\u001b[0m)            │               \u001b[38;5;34m0\u001b[0m │\n",
              "├──────────────────────────────────────┼─────────────────────────────┼─────────────────┤\n",
              "│ conv2d_5 (\u001b[38;5;33mConv2D\u001b[0m)                    │ (\u001b[38;5;45mNone\u001b[0m, \u001b[38;5;34m3\u001b[0m, \u001b[38;5;34m3\u001b[0m, \u001b[38;5;34m64\u001b[0m)            │          \u001b[38;5;34m36,928\u001b[0m │\n",
              "├──────────────────────────────────────┼─────────────────────────────┼─────────────────┤\n",
              "│ batch_normalization_6                │ (\u001b[38;5;45mNone\u001b[0m, \u001b[38;5;34m3\u001b[0m, \u001b[38;5;34m3\u001b[0m, \u001b[38;5;34m64\u001b[0m)            │             \u001b[38;5;34m256\u001b[0m │\n",
              "│ (\u001b[38;5;33mBatchNormalization\u001b[0m)                 │                             │                 │\n",
              "├──────────────────────────────────────┼─────────────────────────────┼─────────────────┤\n",
              "│ flatten_1 (\u001b[38;5;33mFlatten\u001b[0m)                  │ (\u001b[38;5;45mNone\u001b[0m, \u001b[38;5;34m576\u001b[0m)                 │               \u001b[38;5;34m0\u001b[0m │\n",
              "├──────────────────────────────────────┼─────────────────────────────┼─────────────────┤\n",
              "│ dropout_6 (\u001b[38;5;33mDropout\u001b[0m)                  │ (\u001b[38;5;45mNone\u001b[0m, \u001b[38;5;34m576\u001b[0m)                 │               \u001b[38;5;34m0\u001b[0m │\n",
              "├──────────────────────────────────────┼─────────────────────────────┼─────────────────┤\n",
              "│ dense_2 (\u001b[38;5;33mDense\u001b[0m)                      │ (\u001b[38;5;45mNone\u001b[0m, \u001b[38;5;34m128\u001b[0m)                 │          \u001b[38;5;34m73,856\u001b[0m │\n",
              "├──────────────────────────────────────┼─────────────────────────────┼─────────────────┤\n",
              "│ batch_normalization_7                │ (\u001b[38;5;45mNone\u001b[0m, \u001b[38;5;34m128\u001b[0m)                 │             \u001b[38;5;34m512\u001b[0m │\n",
              "│ (\u001b[38;5;33mBatchNormalization\u001b[0m)                 │                             │                 │\n",
              "├──────────────────────────────────────┼─────────────────────────────┼─────────────────┤\n",
              "│ dropout_7 (\u001b[38;5;33mDropout\u001b[0m)                  │ (\u001b[38;5;45mNone\u001b[0m, \u001b[38;5;34m128\u001b[0m)                 │               \u001b[38;5;34m0\u001b[0m │\n",
              "├──────────────────────────────────────┼─────────────────────────────┼─────────────────┤\n",
              "│ dense_3 (\u001b[38;5;33mDense\u001b[0m)                      │ (\u001b[38;5;45mNone\u001b[0m, \u001b[38;5;34m10\u001b[0m)                  │           \u001b[38;5;34m1,290\u001b[0m │\n",
              "└──────────────────────────────────────┴─────────────────────────────┴─────────────────┘\n"
            ],
            "text/html": [
              "<pre style=\"white-space:pre;overflow-x:auto;line-height:normal;font-family:Menlo,'DejaVu Sans Mono',consolas,'Courier New',monospace\">┏━━━━━━━━━━━━━━━━━━━━━━━━━━━━━━━━━━━━━━┳━━━━━━━━━━━━━━━━━━━━━━━━━━━━━┳━━━━━━━━━━━━━━━━━┓\n",
              "┃<span style=\"font-weight: bold\"> Layer (type)                         </span>┃<span style=\"font-weight: bold\"> Output Shape                </span>┃<span style=\"font-weight: bold\">         Param # </span>┃\n",
              "┡━━━━━━━━━━━━━━━━━━━━━━━━━━━━━━━━━━━━━━╇━━━━━━━━━━━━━━━━━━━━━━━━━━━━━╇━━━━━━━━━━━━━━━━━┩\n",
              "│ conv2d_3 (<span style=\"color: #0087ff; text-decoration-color: #0087ff\">Conv2D</span>)                    │ (<span style=\"color: #00d7ff; text-decoration-color: #00d7ff\">None</span>, <span style=\"color: #00af00; text-decoration-color: #00af00\">26</span>, <span style=\"color: #00af00; text-decoration-color: #00af00\">26</span>, <span style=\"color: #00af00; text-decoration-color: #00af00\">32</span>)          │             <span style=\"color: #00af00; text-decoration-color: #00af00\">320</span> │\n",
              "├──────────────────────────────────────┼─────────────────────────────┼─────────────────┤\n",
              "│ batch_normalization_4                │ (<span style=\"color: #00d7ff; text-decoration-color: #00d7ff\">None</span>, <span style=\"color: #00af00; text-decoration-color: #00af00\">26</span>, <span style=\"color: #00af00; text-decoration-color: #00af00\">26</span>, <span style=\"color: #00af00; text-decoration-color: #00af00\">32</span>)          │             <span style=\"color: #00af00; text-decoration-color: #00af00\">128</span> │\n",
              "│ (<span style=\"color: #0087ff; text-decoration-color: #0087ff\">BatchNormalization</span>)                 │                             │                 │\n",
              "├──────────────────────────────────────┼─────────────────────────────┼─────────────────┤\n",
              "│ max_pooling2d_2 (<span style=\"color: #0087ff; text-decoration-color: #0087ff\">MaxPooling2D</span>)       │ (<span style=\"color: #00d7ff; text-decoration-color: #00d7ff\">None</span>, <span style=\"color: #00af00; text-decoration-color: #00af00\">13</span>, <span style=\"color: #00af00; text-decoration-color: #00af00\">13</span>, <span style=\"color: #00af00; text-decoration-color: #00af00\">32</span>)          │               <span style=\"color: #00af00; text-decoration-color: #00af00\">0</span> │\n",
              "├──────────────────────────────────────┼─────────────────────────────┼─────────────────┤\n",
              "│ dropout_4 (<span style=\"color: #0087ff; text-decoration-color: #0087ff\">Dropout</span>)                  │ (<span style=\"color: #00d7ff; text-decoration-color: #00d7ff\">None</span>, <span style=\"color: #00af00; text-decoration-color: #00af00\">13</span>, <span style=\"color: #00af00; text-decoration-color: #00af00\">13</span>, <span style=\"color: #00af00; text-decoration-color: #00af00\">32</span>)          │               <span style=\"color: #00af00; text-decoration-color: #00af00\">0</span> │\n",
              "├──────────────────────────────────────┼─────────────────────────────┼─────────────────┤\n",
              "│ conv2d_4 (<span style=\"color: #0087ff; text-decoration-color: #0087ff\">Conv2D</span>)                    │ (<span style=\"color: #00d7ff; text-decoration-color: #00d7ff\">None</span>, <span style=\"color: #00af00; text-decoration-color: #00af00\">11</span>, <span style=\"color: #00af00; text-decoration-color: #00af00\">11</span>, <span style=\"color: #00af00; text-decoration-color: #00af00\">64</span>)          │          <span style=\"color: #00af00; text-decoration-color: #00af00\">18,496</span> │\n",
              "├──────────────────────────────────────┼─────────────────────────────┼─────────────────┤\n",
              "│ batch_normalization_5                │ (<span style=\"color: #00d7ff; text-decoration-color: #00d7ff\">None</span>, <span style=\"color: #00af00; text-decoration-color: #00af00\">11</span>, <span style=\"color: #00af00; text-decoration-color: #00af00\">11</span>, <span style=\"color: #00af00; text-decoration-color: #00af00\">64</span>)          │             <span style=\"color: #00af00; text-decoration-color: #00af00\">256</span> │\n",
              "│ (<span style=\"color: #0087ff; text-decoration-color: #0087ff\">BatchNormalization</span>)                 │                             │                 │\n",
              "├──────────────────────────────────────┼─────────────────────────────┼─────────────────┤\n",
              "│ max_pooling2d_3 (<span style=\"color: #0087ff; text-decoration-color: #0087ff\">MaxPooling2D</span>)       │ (<span style=\"color: #00d7ff; text-decoration-color: #00d7ff\">None</span>, <span style=\"color: #00af00; text-decoration-color: #00af00\">5</span>, <span style=\"color: #00af00; text-decoration-color: #00af00\">5</span>, <span style=\"color: #00af00; text-decoration-color: #00af00\">64</span>)            │               <span style=\"color: #00af00; text-decoration-color: #00af00\">0</span> │\n",
              "├──────────────────────────────────────┼─────────────────────────────┼─────────────────┤\n",
              "│ dropout_5 (<span style=\"color: #0087ff; text-decoration-color: #0087ff\">Dropout</span>)                  │ (<span style=\"color: #00d7ff; text-decoration-color: #00d7ff\">None</span>, <span style=\"color: #00af00; text-decoration-color: #00af00\">5</span>, <span style=\"color: #00af00; text-decoration-color: #00af00\">5</span>, <span style=\"color: #00af00; text-decoration-color: #00af00\">64</span>)            │               <span style=\"color: #00af00; text-decoration-color: #00af00\">0</span> │\n",
              "├──────────────────────────────────────┼─────────────────────────────┼─────────────────┤\n",
              "│ conv2d_5 (<span style=\"color: #0087ff; text-decoration-color: #0087ff\">Conv2D</span>)                    │ (<span style=\"color: #00d7ff; text-decoration-color: #00d7ff\">None</span>, <span style=\"color: #00af00; text-decoration-color: #00af00\">3</span>, <span style=\"color: #00af00; text-decoration-color: #00af00\">3</span>, <span style=\"color: #00af00; text-decoration-color: #00af00\">64</span>)            │          <span style=\"color: #00af00; text-decoration-color: #00af00\">36,928</span> │\n",
              "├──────────────────────────────────────┼─────────────────────────────┼─────────────────┤\n",
              "│ batch_normalization_6                │ (<span style=\"color: #00d7ff; text-decoration-color: #00d7ff\">None</span>, <span style=\"color: #00af00; text-decoration-color: #00af00\">3</span>, <span style=\"color: #00af00; text-decoration-color: #00af00\">3</span>, <span style=\"color: #00af00; text-decoration-color: #00af00\">64</span>)            │             <span style=\"color: #00af00; text-decoration-color: #00af00\">256</span> │\n",
              "│ (<span style=\"color: #0087ff; text-decoration-color: #0087ff\">BatchNormalization</span>)                 │                             │                 │\n",
              "├──────────────────────────────────────┼─────────────────────────────┼─────────────────┤\n",
              "│ flatten_1 (<span style=\"color: #0087ff; text-decoration-color: #0087ff\">Flatten</span>)                  │ (<span style=\"color: #00d7ff; text-decoration-color: #00d7ff\">None</span>, <span style=\"color: #00af00; text-decoration-color: #00af00\">576</span>)                 │               <span style=\"color: #00af00; text-decoration-color: #00af00\">0</span> │\n",
              "├──────────────────────────────────────┼─────────────────────────────┼─────────────────┤\n",
              "│ dropout_6 (<span style=\"color: #0087ff; text-decoration-color: #0087ff\">Dropout</span>)                  │ (<span style=\"color: #00d7ff; text-decoration-color: #00d7ff\">None</span>, <span style=\"color: #00af00; text-decoration-color: #00af00\">576</span>)                 │               <span style=\"color: #00af00; text-decoration-color: #00af00\">0</span> │\n",
              "├──────────────────────────────────────┼─────────────────────────────┼─────────────────┤\n",
              "│ dense_2 (<span style=\"color: #0087ff; text-decoration-color: #0087ff\">Dense</span>)                      │ (<span style=\"color: #00d7ff; text-decoration-color: #00d7ff\">None</span>, <span style=\"color: #00af00; text-decoration-color: #00af00\">128</span>)                 │          <span style=\"color: #00af00; text-decoration-color: #00af00\">73,856</span> │\n",
              "├──────────────────────────────────────┼─────────────────────────────┼─────────────────┤\n",
              "│ batch_normalization_7                │ (<span style=\"color: #00d7ff; text-decoration-color: #00d7ff\">None</span>, <span style=\"color: #00af00; text-decoration-color: #00af00\">128</span>)                 │             <span style=\"color: #00af00; text-decoration-color: #00af00\">512</span> │\n",
              "│ (<span style=\"color: #0087ff; text-decoration-color: #0087ff\">BatchNormalization</span>)                 │                             │                 │\n",
              "├──────────────────────────────────────┼─────────────────────────────┼─────────────────┤\n",
              "│ dropout_7 (<span style=\"color: #0087ff; text-decoration-color: #0087ff\">Dropout</span>)                  │ (<span style=\"color: #00d7ff; text-decoration-color: #00d7ff\">None</span>, <span style=\"color: #00af00; text-decoration-color: #00af00\">128</span>)                 │               <span style=\"color: #00af00; text-decoration-color: #00af00\">0</span> │\n",
              "├──────────────────────────────────────┼─────────────────────────────┼─────────────────┤\n",
              "│ dense_3 (<span style=\"color: #0087ff; text-decoration-color: #0087ff\">Dense</span>)                      │ (<span style=\"color: #00d7ff; text-decoration-color: #00d7ff\">None</span>, <span style=\"color: #00af00; text-decoration-color: #00af00\">10</span>)                  │           <span style=\"color: #00af00; text-decoration-color: #00af00\">1,290</span> │\n",
              "└──────────────────────────────────────┴─────────────────────────────┴─────────────────┘\n",
              "</pre>\n"
            ]
          },
          "metadata": {}
        },
        {
          "output_type": "display_data",
          "data": {
            "text/plain": [
              "\u001b[1m Total params: \u001b[0m\u001b[38;5;34m394,976\u001b[0m (1.51 MB)\n"
            ],
            "text/html": [
              "<pre style=\"white-space:pre;overflow-x:auto;line-height:normal;font-family:Menlo,'DejaVu Sans Mono',consolas,'Courier New',monospace\"><span style=\"font-weight: bold\"> Total params: </span><span style=\"color: #00af00; text-decoration-color: #00af00\">394,976</span> (1.51 MB)\n",
              "</pre>\n"
            ]
          },
          "metadata": {}
        },
        {
          "output_type": "display_data",
          "data": {
            "text/plain": [
              "\u001b[1m Trainable params: \u001b[0m\u001b[38;5;34m131,466\u001b[0m (513.54 KB)\n"
            ],
            "text/html": [
              "<pre style=\"white-space:pre;overflow-x:auto;line-height:normal;font-family:Menlo,'DejaVu Sans Mono',consolas,'Courier New',monospace\"><span style=\"font-weight: bold\"> Trainable params: </span><span style=\"color: #00af00; text-decoration-color: #00af00\">131,466</span> (513.54 KB)\n",
              "</pre>\n"
            ]
          },
          "metadata": {}
        },
        {
          "output_type": "display_data",
          "data": {
            "text/plain": [
              "\u001b[1m Non-trainable params: \u001b[0m\u001b[38;5;34m576\u001b[0m (2.25 KB)\n"
            ],
            "text/html": [
              "<pre style=\"white-space:pre;overflow-x:auto;line-height:normal;font-family:Menlo,'DejaVu Sans Mono',consolas,'Courier New',monospace\"><span style=\"font-weight: bold\"> Non-trainable params: </span><span style=\"color: #00af00; text-decoration-color: #00af00\">576</span> (2.25 KB)\n",
              "</pre>\n"
            ]
          },
          "metadata": {}
        },
        {
          "output_type": "display_data",
          "data": {
            "text/plain": [
              "\u001b[1m Optimizer params: \u001b[0m\u001b[38;5;34m262,934\u001b[0m (1.00 MB)\n"
            ],
            "text/html": [
              "<pre style=\"white-space:pre;overflow-x:auto;line-height:normal;font-family:Menlo,'DejaVu Sans Mono',consolas,'Courier New',monospace\"><span style=\"font-weight: bold\"> Optimizer params: </span><span style=\"color: #00af00; text-decoration-color: #00af00\">262,934</span> (1.00 MB)\n",
              "</pre>\n"
            ]
          },
          "metadata": {}
        },
        {
          "output_type": "stream",
          "name": "stdout",
          "text": [
            "\n",
            "=== 레이어 상세 정보 ===\n",
            "\n",
            "레이어 1:\n",
            "- 이름: conv2d_3\n",
            "- 타입: Conv2D\n",
            "- 출력 형태: (None, 26, 26, 32)\n",
            "- 파라미터 수: 320개\n",
            "- 필터 수: 32\n",
            "- 커널 크기: (3, 3)\n",
            "- 스트라이드: (1, 1)\n",
            "- 패딩: valid\n",
            "- 활성화 함수: relu\n",
            "\n",
            "레이어 2:\n",
            "- 이름: batch_normalization_4\n",
            "- 타입: BatchNormalization\n",
            "- 출력 형태: (None, 26, 26, 32)\n",
            "- 파라미터 수: 128개\n",
            "- 축: -1\n",
            "- 모멘텀: 0.99\n",
            "- 입실론: 0.001\n",
            "\n",
            "레이어 3:\n",
            "- 이름: max_pooling2d_2\n",
            "- 타입: MaxPooling2D\n",
            "- 출력 형태: (None, 13, 13, 32)\n",
            "- 파라미터 수: 0개\n",
            "- 풀 크기: (2, 2)\n",
            "- 스트라이드: (2, 2)\n",
            "- 패딩: valid\n",
            "\n",
            "레이어 4:\n",
            "- 이름: dropout_4\n",
            "- 타입: Dropout\n",
            "- 출력 형태: (None, 13, 13, 32)\n",
            "- 파라미터 수: 0개\n",
            "- 드롭아웃 비율: 0.25\n",
            "\n",
            "레이어 5:\n",
            "- 이름: conv2d_4\n",
            "- 타입: Conv2D\n",
            "- 출력 형태: (None, 11, 11, 64)\n",
            "- 파라미터 수: 18,496개\n",
            "- 필터 수: 64\n",
            "- 커널 크기: (3, 3)\n",
            "- 스트라이드: (1, 1)\n",
            "- 패딩: valid\n",
            "- 활성화 함수: relu\n",
            "\n",
            "레이어 6:\n",
            "- 이름: batch_normalization_5\n",
            "- 타입: BatchNormalization\n",
            "- 출력 형태: (None, 11, 11, 64)\n",
            "- 파라미터 수: 256개\n",
            "- 축: -1\n",
            "- 모멘텀: 0.99\n",
            "- 입실론: 0.001\n",
            "\n",
            "레이어 7:\n",
            "- 이름: max_pooling2d_3\n",
            "- 타입: MaxPooling2D\n",
            "- 출력 형태: (None, 5, 5, 64)\n",
            "- 파라미터 수: 0개\n",
            "- 풀 크기: (2, 2)\n",
            "- 스트라이드: (2, 2)\n",
            "- 패딩: valid\n",
            "\n",
            "레이어 8:\n",
            "- 이름: dropout_5\n",
            "- 타입: Dropout\n",
            "- 출력 형태: (None, 5, 5, 64)\n",
            "- 파라미터 수: 0개\n",
            "- 드롭아웃 비율: 0.25\n",
            "\n",
            "레이어 9:\n",
            "- 이름: conv2d_5\n",
            "- 타입: Conv2D\n",
            "- 출력 형태: (None, 3, 3, 64)\n",
            "- 파라미터 수: 36,928개\n",
            "- 필터 수: 64\n",
            "- 커널 크기: (3, 3)\n",
            "- 스트라이드: (1, 1)\n",
            "- 패딩: valid\n",
            "- 활성화 함수: relu\n",
            "\n",
            "레이어 10:\n",
            "- 이름: batch_normalization_6\n",
            "- 타입: BatchNormalization\n",
            "- 출력 형태: (None, 3, 3, 64)\n",
            "- 파라미터 수: 256개\n",
            "- 축: -1\n",
            "- 모멘텀: 0.99\n",
            "- 입실론: 0.001\n",
            "\n",
            "레이어 11:\n",
            "- 이름: flatten_1\n",
            "- 타입: Flatten\n",
            "- 출력 형태: (None, 576)\n",
            "- 파라미터 수: 0개\n",
            "\n",
            "레이어 12:\n",
            "- 이름: dropout_6\n",
            "- 타입: Dropout\n",
            "- 출력 형태: (None, 576)\n",
            "- 파라미터 수: 0개\n",
            "- 드롭아웃 비율: 0.5\n",
            "\n",
            "레이어 13:\n",
            "- 이름: dense_2\n",
            "- 타입: Dense\n",
            "- 출력 형태: (None, 128)\n",
            "- 파라미터 수: 73,856개\n",
            "- 뉴런 수: 128\n",
            "- 활성화 함수: relu\n",
            "\n",
            "레이어 14:\n",
            "- 이름: batch_normalization_7\n",
            "- 타입: BatchNormalization\n",
            "- 출력 형태: (None, 128)\n",
            "- 파라미터 수: 512개\n",
            "- 축: -1\n",
            "- 모멘텀: 0.99\n",
            "- 입실론: 0.001\n",
            "\n",
            "레이어 15:\n",
            "- 이름: dropout_7\n",
            "- 타입: Dropout\n",
            "- 출력 형태: (None, 128)\n",
            "- 파라미터 수: 0개\n",
            "- 드롭아웃 비율: 0.5\n",
            "\n",
            "레이어 16:\n",
            "- 이름: dense_3\n",
            "- 타입: Dense\n",
            "- 출력 형태: (None, 10)\n",
            "- 파라미터 수: 1,290개\n",
            "- 뉴런 수: 10\n",
            "- 활성화 함수: softmax\n",
            "\n",
            "=== 모델 컴파일 정보 ===\n",
            "옵티마이저: Adam\n",
            "손실 함수: sparse_categorical_crossentropy\n",
            "평가 지표: ['loss', 'compile_metrics']\n",
            "모델 분석 중 오류 발생: 'Variable' object has no attribute 'get_shape'\n"
          ]
        },
        {
          "output_type": "stream",
          "name": "stderr",
          "text": [
            "Traceback (most recent call last):\n",
            "  File \"<ipython-input-8-194457b62bd7>\", line 77, in <cell line: 75>\n",
            "    analyze_model(model)\n",
            "  File \"<ipython-input-8-194457b62bd7>\", line 68, in analyze_model\n",
            "    trainable_params = np.sum([np.prod(v.get_shape()) for v in model.trainable_weights])\n",
            "  File \"<ipython-input-8-194457b62bd7>\", line 68, in <listcomp>\n",
            "    trainable_params = np.sum([np.prod(v.get_shape()) for v in model.trainable_weights])\n",
            "AttributeError: 'Variable' object has no attribute 'get_shape'\n"
          ]
        }
      ]
    }
  ]
}